{
 "cells": [
  {
   "cell_type": "code",
   "execution_count": 81,
   "id": "cecb2424-a6d3-40fd-9d7a-868554c07d91",
   "metadata": {},
   "outputs": [],
   "source": [
    "import torch\n",
    "import matplotlib.pyplot as plt\n",
    "from matplotlib import colors"
   ]
  },
  {
   "cell_type": "code",
   "execution_count": 44,
   "id": "bd6fbf82-33c8-4d6c-8e82-ed91031b9d03",
   "metadata": {},
   "outputs": [],
   "source": [
    "class Node:\n",
    "    def __init__(self,data,next_node=None):\n",
    "        self.data = data\n",
    "        self.next = next_node"
   ]
  },
  {
   "cell_type": "code",
   "execution_count": 45,
   "id": "63caad59-94de-4d96-8de5-6cb7ff7030b7",
   "metadata": {},
   "outputs": [],
   "source": [
    "class Stack:\n",
    "    def __init__(self):\n",
    "        self.top = None\n",
    "    def is_empty(self):\n",
    "        return self.top is None\n",
    "    def push(self,data):\n",
    "        new = Node(data,self.top)\n",
    "        self.top = new\n",
    "    def pop(self):\n",
    "        data = self.top.data\n",
    "        self.top = self.top.next\n",
    "        return data\n"
   ]
  },
  {
   "cell_type": "code",
   "execution_count": 86,
   "id": "fac10e04-4490-41eb-afce-b410771fd51a",
   "metadata": {},
   "outputs": [],
   "source": [
    "class maze:\n",
    "    def __init__(self,maze=[],start=[],end=[]):\n",
    "        self.maze_map = maze\n",
    "        self.start = tuple(start)\n",
    "        self.end = tuple(end)#吃了大亏:如果不tuple化, python不会认为[0,0] = (0,0),导致了严重错误!\n",
    "        self.row = len(maze)\n",
    "        self.col = len(maze[0])\n",
    "    def printmaze(self): #打印迷宫\n",
    "        for row in self.maze_map:\n",
    "            output = \"\"\n",
    "            for col in row:\n",
    "                if col == 0:\n",
    "                    output += \"O\"#通路是O,障碍是#,方便观察迷宫\n",
    "                else:\n",
    "                    output += \"#\"\n",
    "            print(output)\n",
    "    def find_all_path(self):\n",
    "\n",
    "        stack = Stack()#上面的类实现的Stack\n",
    "        stack.push((self.start,[self.start]))#data必须记录:现在的位置,以及怎么过来的\n",
    "        all_paths = []\n",
    "\n",
    "        while not stack.is_empty(): #DFS搜索\n",
    "            current_pos, path = stack.pop()\n",
    "            \n",
    "            if current_pos == self.end:\n",
    "                all_paths.append(path)\n",
    "                continue #如果到了终点,那么就先加入这个path,然后再停止!\n",
    "\n",
    "            for dx, dy in [(-1,0), (1,0), (0,-1), (0,1)]: #走出一步的操作,\n",
    "                x, y = current_pos[0] + dx, current_pos[1] + dy\n",
    "                \n",
    "                if 0 <= x < self.row and 0 <= y < self.col:\n",
    "                    if self.maze_map[x][y] == 0 and (x,y) not in path:#not in path避免回路的出现\n",
    "                        new_path = path + [(x,y)]\n",
    "                        stack.push(((x,y), new_path))#压入栈中\n",
    "                        #print(f\"当前压入栈中的是:{x},{y}\")\n",
    "                        #print(f\"路径:{new_path}\")\n",
    "        \n",
    "        return all_paths\n",
    "\n",
    "    def visualize(self, path):\n",
    "        # 创建显示矩阵\n",
    "        maze_display = []\n",
    "        for i in range(self.row):\n",
    "            row = []\n",
    "            for j in range(self.col):\n",
    "                if (i,j) == self.start:\n",
    "                    row.append(2)\n",
    "                elif (i,j) == self.end:\n",
    "                    row.append(3)\n",
    "                else:\n",
    "                    row.append(0 if self.maze_map[i][j] == 0 else 1)\n",
    "            maze_display.append(row)\n",
    "        \n",
    "        # 设置颜色映射\n",
    "        cmap = colors.ListedColormap(['white', 'black', 'green', 'red'])\n",
    "        norm = colors.BoundaryNorm([0,1,2,3], cmap.N)\n",
    "\n",
    "        plt.figure(figsize=(8, 8))\n",
    "        plt.imshow(maze_display, cmap=cmap, norm=norm, interpolation='none')\n",
    "\n",
    "        # 绘制路径\n",
    "        if path:\n",
    "            y_centers = [p[1]+0.5-0.25 for p in path]\n",
    "            x_centers = [p[0]+0.5-0.25 for p in path]\n",
    "            plt.plot(y_centers, x_centers, color='blue', linewidth=3, marker='o', \n",
    "                     markersize=8, linestyle='-', markerfacecolor='yellow')\n",
    "\n",
    "        # 设置网格\n",
    "        plt.grid(which='major', color='gray', linestyle='-', linewidth=0.5)\n",
    "        plt.xticks(range(self.col), [])\n",
    "        plt.yticks(range(self.row), [])\n",
    "        plt.gca().set_xticks([x - 0.5 for x in range(self.col)], minor=True)\n",
    "        plt.gca().set_yticks([y - 0.5 for y in range(self.row)], minor=True)\n",
    "        plt.gca().tick_params(which='minor', length=0)\n",
    "        plt.show()\n",
    "\n",
    "    def solve(self):\n",
    "        all_paths = self.find_all_path()\n",
    "        if not all_paths: #not会自动检测是不是空\n",
    "            print(\"没有通路\")\n",
    "            return False\n",
    "        sorted_paths = sorted(all_paths, key=len)#python内部的sorted函数,将len()作为排序的准则\n",
    "        print(\"所有可能路径：\")\n",
    "        for i, path in enumerate(sorted_paths):\n",
    "            print(f\"路径{i+1}: {'→'.join(f'({x},{y})' for x,y in path)}\")\n",
    "        \n",
    "        print(\"\\n最短路径：\", '→'.join(f'({x},{y})' for x,y in sorted_paths[0]))\n",
    "        self.visualize(sorted_paths[0])\n",
    "        return True\n",
    "    "
   ]
  },
  {
   "cell_type": "code",
   "execution_count": 89,
   "id": "28559852-5ff4-4319-abbc-e4be46870e8d",
   "metadata": {},
   "outputs": [
    {
     "name": "stdout",
     "output_type": "stream",
     "text": [
      "#OOO#\n",
      "#O#O#\n",
      "#OOO#\n",
      "#O#O#\n",
      "#OOO#\n",
      "###O#\n",
      "所有可能路径：\n",
      "路径1: (0,1)→(0,2)→(0,3)→(1,3)→(2,3)→(3,3)→(4,3)→(5,3)\n",
      "路径2: (0,1)→(1,1)→(2,1)→(2,2)→(2,3)→(3,3)→(4,3)→(5,3)\n",
      "路径3: (0,1)→(1,1)→(2,1)→(3,1)→(4,1)→(4,2)→(4,3)→(5,3)\n",
      "路径4: (0,1)→(0,2)→(0,3)→(1,3)→(2,3)→(2,2)→(2,1)→(3,1)→(4,1)→(4,2)→(4,3)→(5,3)\n",
      "\n",
      "最短路径： (0,1)→(0,2)→(0,3)→(1,3)→(2,3)→(3,3)→(4,3)→(5,3)\n"
     ]
    },
    {
     "data": {
      "image/png": "[encoded data removed]",
      "text/plain": [
       "<Figure size 800x800 with 1 Axes>"
      ]
     },
     "metadata": {},
     "output_type": "display_data"
    },
    {
     "data": {
      "text/plain": [
       "True"
      ]
     },
     "execution_count": 89,
     "metadata": {},
     "output_type": "execute_result"
    }
   ],
   "source": [
    "maz = [\n",
    "    [1,0,0,0,1],\n",
    "    [1,0,1,0,1],\n",
    "    [1,0,0,0,1],\n",
    "    [1,0,1,0,1],\n",
    "    [1,0,0,0,1],\n",
    "    [1,1,1,0,1]\n",
    "]\n",
    "\n",
    "m = maze(maz, start=[0,1], end=[5,3])\n",
    "m.printmaze()\n",
    "m.solve()"
   ]
  },
  {
   "cell_type": "code",
   "execution_count": null,
   "id": "3579405f-8c8d-4bf0-9f43-b15c397449d5",
   "metadata": {},
   "outputs": [],
   "source": []
  }
 ],
 "metadata": {
  "kernelspec": {
   "display_name": "Python 3 (ipykernel)",
   "language": "python",
   "name": "python3"
  },
  "language_info": {
   "codemirror_mode": {
    "name": "ipython",
    "version": 3
   },
   "file_extension": ".py",
   "mimetype": "text/x-python",
   "name": "python",
   "nbconvert_exporter": "python",
   "pygments_lexer": "ipython3",
   "version": "3.12.9"
  }
 },
 "nbformat": 4,
 "nbformat_minor": 5
}
